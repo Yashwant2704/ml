{
 "cells": [
  {
   "cell_type": "code",
   "execution_count": null,
   "metadata": {},
   "outputs": [],
   "source": [
    "import numpy as np\n",
    "import pandas as pd\n",
    "#xs = np.array([1,2,3,4,5], dtype=np.int32)\n",
    "#ys = np.array([1,2,3,4,5], dtype=np.int32)\n",
    "df=pd.read_excel('f:\\\\dataforline.xlsx')\n",
    "df_values=df.values\n",
    "xs=df_values[:,0]\n",
    "ys=df_values[:,1]\n",
    "display(df)\n",
    "print('xs=',xs)\n",
    "print('ys=',ys)"
   ]
  },
  {
   "cell_type": "code",
   "execution_count": null,
   "metadata": {},
   "outputs": [],
   "source": [
    "from statistics import mean\n",
    "#y=mx+b\n",
    "#To find out best values of parameters- statistical method m=cov(x,y)/var(x)\n",
    "m=(((mean(xs)*mean(ys)) - mean(xs*ys)) /\n",
    "         ((mean(xs)*mean(xs)) - mean(xs*xs)))\n",
    "#m=np.cov(mean(xs),mean(ys))/np.cov(mean(xs),mean(xs))\n",
    "b=mean(ys)-m*mean(xs)\n",
    "print('m=',m)\n",
    "print('b=',b)\n",
    "ycap=m*xs+b\n",
    "ycap\n",
    "    "
   ]
  },
  {
   "cell_type": "code",
   "execution_count": null,
   "metadata": {},
   "outputs": [],
   "source": [
    "#plotting\n",
    "import matplotlib.pyplot as plt\n",
    "plt.scatter(xs,ys)\n",
    "plt.title('Regression- fitting a line to the given data using statistical methdod')\n",
    "plt.plot(xs,ycap,color='magenta')\n",
    "plt.xlabel('feature x')\n",
    "plt.ylabel('y and ycap')\n",
    "plt.show()"
   ]
  }
 ],
 "metadata": {
  "kernelspec": {
   "display_name": "Python 3",
   "language": "python",
   "name": "python3"
  },
  "language_info": {
   "codemirror_mode": {
    "name": "ipython",
    "version": 3
   },
   "file_extension": ".py",
   "mimetype": "text/x-python",
   "name": "python",
   "nbconvert_exporter": "python",
   "pygments_lexer": "ipython3",
   "version": "3.7.4"
  }
 },
 "nbformat": 4,
 "nbformat_minor": 2
}
