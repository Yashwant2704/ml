{
  "nbformat": 4,
  "nbformat_minor": 0,
  "metadata": {
    "colab": {
      "provenance": []
    },
    "kernelspec": {
      "name": "python3",
      "display_name": "Python 3"
    },
    "accelerator": "GPU"
  },
  "cells": [
    {
      "cell_type": "code",
      "metadata": {
        "id": "RCNWjxaOkk0c"
      },
      "source": [
        "from __future__ import absolute_import, division, print_function, unicode_literals\n",
        "\n",
        "import tensorflow as tf\n",
        "from tensorflow import keras\n",
        "\n",
        "from tensorflow.keras import datasets, layers, models\n",
        "import matplotlib.pyplot as plt\n",
        "import numpy as np"
      ],
      "execution_count": 1,
      "outputs": []
    },
    {
      "cell_type": "code",
      "metadata": {
        "id": "Sickun7QmhCr"
      },
      "source": [
        "mnist = tf.keras.datasets.mnist\n",
        "(x_train, y_train), (x_test, y_test) = mnist.load_data()\n",
        "x_train, x_test = x_train / 255.0, x_test / 255.0"
      ],
      "execution_count": null,
      "outputs": []
    },
    {
      "cell_type": "code",
      "source": [
        "# from tensorflow.keras.datasets import fashion_mnist\n",
        "# (x_train, y_train), (x_test, y_test) = fashion_mnist.load_data()\n",
        "# x_train, x_test = x_train / 255.0, x_test / 255.0"
      ],
      "metadata": {
        "id": "hpy7jgzmKN0p"
      },
      "execution_count": null,
      "outputs": []
    },
    {
      "cell_type": "code",
      "metadata": {
        "id": "U5-m7CoMWTbC"
      },
      "source": [
        "class_names = ['0', '1', '2', '3', '4',\n",
        "               '5', '6', '7', '8', '9']\n",
        "# class_names = ['T-shirt/top', 'Trouser', 'Pullover', 'Dress', 'Coat',\n",
        "#                'Sandal', 'Shirt', 'Sneaker', 'Bag', 'Ankle boot']\n",
        "plt.figure(figsize=(10,10))\n",
        "for i in range(25):\n",
        "    plt.subplot(5,5,i+1)\n",
        "    plt.xticks([])\n",
        "    plt.yticks([])\n",
        "    plt.grid(False)\n",
        "    plt.imshow(x_train[i]), #cmap=plt.cm.binary)\n",
        "    plt.xlabel(class_names[y_train[i]])\n",
        "plt.show()"
      ],
      "execution_count": null,
      "outputs": []
    },
    {
      "cell_type": "code",
      "metadata": {
        "id": "wGjNuvw0P8sB",
        "colab": {
          "base_uri": "https://localhost:8080/"
        },
        "outputId": "026045e3-4677-46e1-835c-e832d7bbe8f7"
      },
      "source": [
        "x_train = x_train.reshape(x_train.shape[0], 28, 28, 1)\n",
        "x_train.shape\n",
        "x_test = x_test.reshape(x_test.shape[0], 28, 28, 1)\n",
        "x_test.shape"
      ],
      "execution_count": 4,
      "outputs": [
        {
          "output_type": "execute_result",
          "data": {
            "text/plain": [
              "(10000, 28, 28, 1)"
            ]
          },
          "metadata": {},
          "execution_count": 4
        }
      ]
    },
    {
      "cell_type": "code",
      "metadata": {
        "id": "GE6VE9IHOKQL",
        "colab": {
          "base_uri": "https://localhost:8080/"
        },
        "outputId": "a0edcce8-8554-4176-ea26-8de5d0fe5057"
      },
      "source": [
        "x_train.shape"
      ],
      "execution_count": 5,
      "outputs": [
        {
          "output_type": "execute_result",
          "data": {
            "text/plain": [
              "(60000, 28, 28, 1)"
            ]
          },
          "metadata": {},
          "execution_count": 5
        }
      ]
    },
    {
      "cell_type": "code",
      "metadata": {
        "id": "OI5eUtaKvvw8",
        "colab": {
          "base_uri": "https://localhost:8080/"
        },
        "outputId": "33be91c3-9ca8-4572-8ede-fff13f372bc3"
      },
      "source": [
        "model = models.Sequential()\n",
        "model.add(layers.Conv2D(32, (3, 3), activation='relu', input_shape=(28,28,1))),\n",
        "model.add(layers.MaxPooling2D((2, 2))),\n",
        "model.add(layers.Conv2D(64, (3, 3), activation='relu'))\n",
        "model.add(layers.MaxPooling2D((2, 2))),\n",
        "model.add(layers.Conv2D(64, (3, 3), activation='relu')),\n",
        "model.add(layers.Flatten()),\n",
        "model.add(layers.Dense(64, activation='relu')),\n",
        "model.add(layers.Dense(10,activation='softmax'))"
      ],
      "execution_count": 6,
      "outputs": [
        {
          "output_type": "stream",
          "name": "stderr",
          "text": [
            "/usr/local/lib/python3.10/dist-packages/keras/src/layers/convolutional/base_conv.py:107: UserWarning: Do not pass an `input_shape`/`input_dim` argument to a layer. When using Sequential models, prefer using an `Input(shape)` object as the first layer in the model instead.\n",
            "  super().__init__(activity_regularizer=activity_regularizer, **kwargs)\n"
          ]
        }
      ]
    },
    {
      "cell_type": "code",
      "metadata": {
        "id": "cMwPA-_Uv68y"
      },
      "source": [
        "model.summary()"
      ],
      "execution_count": null,
      "outputs": []
    },
    {
      "cell_type": "code",
      "metadata": {
        "id": "NNzYZFqLzhbt"
      },
      "source": [
        "model.compile(optimizer='adam',\n",
        "              loss=tf.keras.losses.SparseCategoricalCrossentropy(from_logits=True),\n",
        "              metrics=['accuracy'])\n",
        "\n",
        "history = model.fit(x_train, y_train, epochs=10, validation_data=(x_test, y_test))"
      ],
      "execution_count": null,
      "outputs": []
    },
    {
      "cell_type": "code",
      "source": [
        "#Plot accuracy\n",
        "plt.plot(history.history['accuracy'], label='Train Accuracy')\n",
        "plt.plot(history.history['val_accuracy'], label='Validation Accuracy')\n",
        "plt.xlabel('Epoch')\n",
        "plt.ylabel('Accuracy')\n",
        "plt.ylim([0.5, 1])  # Adjust the limits as per your dataset performance\n",
        "plt.legend(loc='lower right')\n",
        "plt.title('Accuracy over Epochs')\n",
        "plt.show()\n",
        "\n",
        "# Plot loss\n",
        "plt.plot(history.history['loss'], label='Train Loss')\n",
        "plt.plot(history.history['val_loss'], label='Validation Loss')\n",
        "plt.xlabel('Epoch')\n",
        "plt.ylabel('Loss')\n",
        "plt.ylim([0, 2])  # Changed limits for better visualization\n",
        "plt.legend(loc='lower right')\n",
        "plt.title('Loss over Epochs')\n",
        "plt.show()\n",
        "\n",
        "# Evaluate model on the test data\n",
        "test_loss, test_acc = model.evaluate(x_test, y_test, verbose=2)\n",
        "\n",
        "# Print test accuracy and loss\n",
        "print(f'Test Accuracy: {test_acc}')\n",
        "print(f'Test Loss: {test_loss}')"
      ],
      "metadata": {
        "id": "qE0a5Oo3E-8c"
      },
      "execution_count": null,
      "outputs": []
    },
    {
      "cell_type": "code",
      "metadata": {
        "id": "Xg27i8xFYZpJ",
        "colab": {
          "base_uri": "https://localhost:8080/"
        },
        "outputId": "65104c1e-005f-44ad-fd86-acf707259ae6"
      },
      "source": [
        "model.evaluate(x_test, y_test)"
      ],
      "execution_count": 10,
      "outputs": [
        {
          "output_type": "stream",
          "name": "stdout",
          "text": [
            "\u001b[1m313/313\u001b[0m \u001b[32m━━━━━━━━━━━━━━━━━━━━\u001b[0m\u001b[37m\u001b[0m \u001b[1m1s\u001b[0m 2ms/step - accuracy: 0.9885 - loss: 0.0463\n"
          ]
        },
        {
          "output_type": "execute_result",
          "data": {
            "text/plain": [
              "[0.03472054749727249, 0.9915000200271606]"
            ]
          },
          "metadata": {},
          "execution_count": 10
        }
      ]
    },
    {
      "cell_type": "code",
      "metadata": {
        "id": "eJuhBM_ZYcPD"
      },
      "source": [
        "import matplotlib.pyplot as plt\n",
        "x_test = x_test.reshape(x_test.shape[0], 28, 28)\n",
        "plt.imshow(x_test[5678])\n",
        "plt.show()"
      ],
      "execution_count": null,
      "outputs": []
    },
    {
      "cell_type": "code",
      "metadata": {
        "id": "ZmXII3dZZqI2",
        "colab": {
          "base_uri": "https://localhost:8080/"
        },
        "outputId": "3451fa12-25c5-4b51-9a24-ba005de957cf"
      },
      "source": [
        "x_test[5678].shape"
      ],
      "execution_count": 12,
      "outputs": [
        {
          "output_type": "execute_result",
          "data": {
            "text/plain": [
              "(28, 28)"
            ]
          },
          "metadata": {},
          "execution_count": 12
        }
      ]
    },
    {
      "cell_type": "code",
      "metadata": {
        "id": "I_zKu62aZeg-"
      },
      "source": [
        "x_test = x_test.reshape(x_test.shape[0], 28, 28,1)\n",
        "predictions = model.predict(x_test)\n",
        "print(predictions[5678])\n",
        "np.argmax(predictions[5678])"
      ],
      "execution_count": null,
      "outputs": []
    },
    {
      "cell_type": "code",
      "metadata": {
        "id": "tmgKF4kUcT-F",
        "colab": {
          "base_uri": "https://localhost:8080/"
        },
        "outputId": "1e177412-b7a2-4e36-9028-994d7b367c3c"
      },
      "source": [
        "y_test"
      ],
      "execution_count": 14,
      "outputs": [
        {
          "output_type": "execute_result",
          "data": {
            "text/plain": [
              "array([7, 2, 1, ..., 4, 5, 6], dtype=uint8)"
            ]
          },
          "metadata": {},
          "execution_count": 14
        }
      ]
    },
    {
      "cell_type": "code",
      "metadata": {
        "id": "B2yI-3e0chT4"
      },
      "source": [
        "pred=[]\n",
        "for j in range(len(predictions)):\n",
        "   pred.append(np.argmax(predictions[j]))"
      ],
      "execution_count": 15,
      "outputs": []
    },
    {
      "cell_type": "code",
      "metadata": {
        "id": "fBKP-1i6jj7-"
      },
      "source": [
        "pred"
      ],
      "execution_count": null,
      "outputs": []
    },
    {
      "cell_type": "code",
      "metadata": {
        "id": "vS4PDdAkbvl2"
      },
      "source": [
        "import sklearn\n",
        "from sklearn.metrics import confusion_matrix\n",
        "confusion_matrix(y_test,pred)"
      ],
      "execution_count": null,
      "outputs": []
    },
    {
      "cell_type": "code",
      "metadata": {
        "id": "lNCI5WYFkwXJ"
      },
      "source": [
        "from sklearn.metrics import classification_report\n",
        "print(classification_report(y_test,pred, target_names=class_names))"
      ],
      "execution_count": null,
      "outputs": []
    },
    {
      "cell_type": "code",
      "metadata": {
        "id": "6C-L5gNCse2f"
      },
      "source": [
        "print('Accuracy:', sklearn.metrics.accuracy_score(y_test,pred))\n",
        "\n",
        "print('F1 score:',sklearn.metrics.f1_score(y_test,pred,\n",
        "                            average='weighted'))\n",
        "\n",
        "print( 'Recall:',sklearn.metrics.recall_score(y_test,pred,\n",
        "                              average='weighted'))\n",
        "\n",
        "print('Precision:',sklearn.metrics.precision_score(y_test,pred,\n",
        "                                    average='weighted'))"
      ],
      "execution_count": null,
      "outputs": []
    }
  ]
}