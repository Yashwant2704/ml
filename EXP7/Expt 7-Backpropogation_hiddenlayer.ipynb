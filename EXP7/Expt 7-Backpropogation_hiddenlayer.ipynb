{
 "cells": [
  {
   "cell_type": "code",
   "execution_count": 26,
   "metadata": {},
   "outputs": [
    {
     "name": "stdout",
     "output_type": "stream",
     "text": [
      "w= [0.31865196 0.46683832 0.31865196 0.41985811] [0.51608561 0.51608561 0.61939331 0.59298083] [0.32135555 0.46954191 0.32135555 0.4225617 ] [0.98136485 0.98136485 1.08467255 1.05826006]\n",
      "w2,w3= 0.6208785186043334 0.6880897173233896\n",
      "b1,b2= [1.40099812 1.31212667 1.23492583 1.17810136] [2.72955118 2.6610549  2.61255862 2.57437942]\n"
     ]
    },
    {
     "data": {
      "image/png": "[encoded data removed]",
      "text/plain": [
       "<Figure size 432x288 with 1 Axes>"
      ]
     },
     "metadata": {
      "needs_background": "light"
     },
     "output_type": "display_data"
    }
   ],
   "source": [
    "import numpy as np\n",
    "import matplotlib.pyplot as plt\n",
    "##Multiple samples\n",
    "x1=np.array([0,1,0,1])\n",
    "x2=np.array([0,0,1,1])\n",
    "y=[1,1,1,1] # target\n",
    "#single Sample\n",
    "# x1=np.array([0])\n",
    "# x2=np.array([0])\n",
    "# y=[1] # target\n",
    "earray=[]\n",
    "itrarray=[]\n",
    "#np.random.seed(23)\n",
    "w00=np.random.rand() #weights for hidden layer\n",
    "w01=np.random.rand() #weights for hidden layer\n",
    "w10=np.random.rand() #weights for hidden layer\n",
    "w11=np.random.rand() #weights for hidden layer\n",
    "b1=1.0 #bias for hidden layer\n",
    "w2=np.random.rand()#weights for outputlayer\n",
    "w3=np.random.rand()#weights for output layer\n",
    "b2=1.0   #bias for output layer\n",
    "iterations=1000\n",
    "for itr in range(iterations):\n",
    "   \n",
    "    #forward propogation\n",
    "    #input layer to hidden layer\n",
    "    z1=w00*x1+w01*x2+b1 # hidden layer z1\n",
    "    z2=w10*x1+w11*x2+b1 # hidden layer z2\n",
    "    h1=1/(1+np.exp(-z1))# hidden layer h1\n",
    "    h2=1/(1+np.exp(-z2))# hidden layer h2\n",
    "    #forward propogation\n",
    "    # hidden layer to output layer\n",
    "    zout=w2*h1+w3*h2+b2 # output  layer z\n",
    "    o=1/(1+np.exp(-zout))# output  layer output o\n",
    "    #Back propogation\n",
    "    #output to hidden layer\n",
    "    # gradient determination\n",
    "    e=0.5*np.mean((o-y)*(o-y)) # simple error\n",
    "    de_do=o-y\n",
    "    do_dzout=o*(1-o)\n",
    "    dzout_dw2=h1\n",
    "    dzout_dw3=h2\n",
    "    dzout_db2=1\n",
    "    #de_dw2\n",
    "    de_dw2=de_do*do_dzout*dzout_dw2\n",
    "    #de_dw3\n",
    "    de_dw3=de_do*do_dzout*dzout_dw3\n",
    "    #de_db2\n",
    "    de_db2=de_do*do_dzout*dzout_db2\n",
    "    \n",
    "    #hidden layer to input layer\n",
    "    # gradient determination\n",
    "    dzout_dh1=w2\n",
    "    dh1_dz1=h1*(1-h1)\n",
    "    dzout_dh2=w3\n",
    "    dh2_dz2=h2*(1-h2)\n",
    "    dz1_dw00=x1\n",
    "    dz2_dw01=x2\n",
    "    dz1_dw10=x1\n",
    "    dz2_dw11=x2\n",
    "    dz1_db1=1\n",
    "    dz2_db1=1\n",
    "  \n",
    "    #de_dw00\n",
    "    de_dw00=de_do*do_dzout*dzout_dh1*dh1_dz1*dz1_dw00\n",
    "    #de_dw01\n",
    "    de_dw01=de_do*do_dzout*dzout_dh2*dh2_dz2*dz2_dw01\n",
    "    #de_dw10\n",
    "    de_dw10=de_do*do_dzout*dzout_dh1*dh1_dz1*dz1_dw10\n",
    "    #de_dw11\n",
    "    de_dw11=de_do*do_dzout*dzout_dh2*dh2_dz2*dz2_dw11\n",
    "    #de_db1\n",
    "    de_db1=de_do*do_dzout*dzout_dh1*dh1_dz1*dz1_db1+de_do*do_dzout*dzout_dh2*dh2_dz2*dz2_db1\n",
    "    \n",
    "    #Udates\n",
    "    w00-=de_dw00\n",
    "    w01-=de_dw01\n",
    "    w10-=de_dw10\n",
    "    w11-=de_dw11\n",
    "    b1-=de_db1\n",
    "    b2-=de_db2\n",
    "    earray.append(np.mean(e))\n",
    "    itrarray.append(itr)\n",
    "plt.ylabel(\"error\")\n",
    "plt.xlabel(\"itratiom\")\n",
    "plt.title(\"error plot\")\n",
    "plt.plot(itrarray,earray)\n",
    "print(\"w=\",w00,w01,w10,w11)\n",
    "print(\"w2,w3=\",w2,w3)\n",
    "print(\"b1,b2=\",b1,b2)"
   ]
  },
  {
   "cell_type": "code",
   "execution_count": 31,
   "metadata": {},
   "outputs": [
    {
     "name": "stdout",
     "output_type": "stream",
     "text": [
      "o= [1. 1. 1. 1.]\n"
     ]
    },
    {
     "data": {
      "text/plain": [
       "array([0.80234223, 0.78786881, 0.77467955, 0.76460625])"
      ]
     },
     "execution_count": 31,
     "metadata": {},
     "output_type": "execute_result"
    }
   ],
   "source": [
    "# #Multiple samples test\n",
    "x1=np.array([0,1,0,1])\n",
    "x2=np.array([0,0,1,1])\n",
    "#Single sample test\n",
    "x11=np.array([0])\n",
    "x22=np.array([0])\n",
    "z1=w00*x11+w01*x22+b1 # hidden layer z1\n",
    "z2=w10*x11+w11*x22+b1 # hidden layer z2\n",
    "h1=1/(1+np.exp(-z1))# hidden layer h1\n",
    "h2=1/(1+np.exp(-z2))# hidden layer h2\n",
    "#forward propogation\n",
    "# hidden layer to output layer\n",
    "zout=w2*h1+w3*h2+b2 # output  layer z\n",
    "o=1/(1+np.exp(-zout))# output  layer output o\n",
    "print(\"o=\",np.round(o))\n"
   ]
  },
  {
   "cell_type": "code",
   "execution_count": null,
   "metadata": {},
   "outputs": [],
   "source": []
  }
 ],
 "metadata": {
  "kernelspec": {
   "display_name": "Python 3",
   "language": "python",
   "name": "python3"
  },
  "language_info": {
   "codemirror_mode": {
    "name": "ipython",
    "version": 3
   },
   "file_extension": ".py",
   "mimetype": "text/x-python",
   "name": "python",
   "nbconvert_exporter": "python",
   "pygments_lexer": "ipython3",
   "version": "3.7.4"
  }
 },
 "nbformat": 4,
 "nbformat_minor": 2
}
