{
 "cells": [
  {
   "cell_type": "markdown",
   "metadata": {},
   "source": [
    "Fit the line or perform the regression analysis for linear/nonlinear data using ML"
   ]
  },
  {
   "cell_type": "code",
   "execution_count": 1,
   "metadata": {},
   "outputs": [
    {
     "name": "stdout",
     "output_type": "stream",
     "text": [
      "1.15.0\n",
      "2.2.4-tf\n"
     ]
    }
   ],
   "source": [
    "import tensorflow as tf \n",
    "from tensorflow import keras\n",
    "print(tf.__version__)\n",
    "print(keras.__version__)\n",
    "import numpy as np\n",
    "import pandas as pd\n",
    "import matplotlib.pyplot as plt\n",
    "from sklearn.model_selection import train_test_split"
   ]
  },
  {
   "cell_type": "code",
   "execution_count": 2,
   "metadata": {},
   "outputs": [
    {
     "name": "stdout",
     "output_type": "stream",
     "text": [
      "Dataframe\n",
      "      0    2\n",
      "0    1    3\n",
      "1    2    4\n",
      "2    3    5\n",
      "3    4    6\n",
      "4    5    7\n",
      "..  ..  ...\n",
      "94  95   97\n",
      "95  96   98\n",
      "96  97   99\n",
      "97  98  100\n",
      "98  99  101\n",
      "\n",
      "[99 rows x 2 columns]\n",
      "x values [ 1  2  3  4  5  6  7  8  9 10 11 12 13 14 15 16 17 18 19 20 21 22 23 24\n",
      " 25 26 27 28 29 30 31 32 33 34 35 36 37 38 39 40 41 42 43 44 45 46 47 48\n",
      " 49 50 51 52 53 54 55 56 57 58 59 60 61 62 63 64 65 66 67 68 69 70 71 72\n",
      " 73 74 75 76 77 78 79 80 81 82 83 84 85 86 87 88 89 90 91 92 93 94 95 96\n",
      " 97 98 99]\n",
      "y values-target [  3   4   5   6   7   8   9  10  11  12  13  14  15  16  17  18  19  20\n",
      "  21  22  23  24  25  26  27  28  29  30  31  32  33  34  35  36  37  38\n",
      "  39  40  41  42  43  44  45  46  47  48  49  50  51  52  53  54  55  56\n",
      "  57  58  59  60  61  62  63  64  65  66  67  68  69  70  71  72  73  74\n",
      "  75  76  77  78  79  80  81  82  83  84  85  86  87  88  89  90  91  92\n",
      "  93  94  95  96  97  98  99 100 101]\n"
     ]
    }
   ],
   "source": [
    "df=pd.read_excel('F:\\\\simpleio1.xlsx')\n",
    "print('Dataframe\\n',df)\n",
    "df=df.values\n",
    "xs=df[:,0]\n",
    "ys=df[:,1]\n",
    "print('x values',xs)\n",
    "print('y values-target',ys)"
   ]
  },
  {
   "cell_type": "code",
   "execution_count": 3,
   "metadata": {},
   "outputs": [
    {
     "name": "stdout",
     "output_type": "stream",
     "text": [
      "[ 1  2  3  4  5  6  7  8  9 10 11 12 13 14 15 16 17 18 19 20 21 22 23 24\n",
      " 25 26 27 28 29 30 31 32 33 34 35 36 37 38 39 40 41 42 43 44 45 46 47 48\n",
      " 49 50 51 52 53 54 55 56 57 58 59 60 61 62 63 64 65 66 67 68 69 70]\n",
      "[72 73 74 75 76 77 78 79 80 81 82 83 84 85 86 87 88 89 90 91 92 93 94 95\n",
      " 96 97 98 99]\n",
      "[ 3  4  5  6  7  8  9 10 11 12 13 14 15 16 17 18 19 20 21 22 23 24 25 26\n",
      " 27 28 29 30 31 32 33 34 35 36 37 38 39 40 41 42 43 44 45 46 47 48 49 50\n",
      " 51 52 53 54 55 56 57 58 59 60 61 62 63 64 65 66 67 68 69 70 71 72]\n",
      "[ 74  75  76  77  78  79  80  81  82  83  84  85  86  87  88  89  90  91\n",
      "  92  93  94  95  96  97  98  99 100 101]\n"
     ]
    }
   ],
   "source": [
    "X_train=xs[0:70]\n",
    "X_test=xs[71::]\n",
    "Y_train=ys[0:70]\n",
    "Y_test=ys[71::]\n",
    "print(X_train)\n",
    "print(X_test)\n",
    "print(Y_train)\n",
    "print(Y_test)"
   ]
  },
  {
   "cell_type": "code",
   "execution_count": null,
   "metadata": {},
   "outputs": [],
   "source": [
    "# X_train, X_test, Y_train, Y_test = train_test_split(xs, ys, test_size = 0.3,random_state =0)\n",
    "\n",
    "# print(X_train)\n",
    "# print(X_test)"
   ]
  },
  {
   "cell_type": "code",
   "execution_count": 11,
   "metadata": {},
   "outputs": [],
   "source": [
    "model = tf.keras.models.Sequential([tf.keras.layers.Dense(1,input_dim=1),\n",
    "                                            # tf.keras.layers.Dense(5,tf.keras.layers.Dense(5,activation=tf.nn.sigmoid)),\n",
    "                                             tf.keras.layers.Dense(1)])\n",
    "#tf.keras.layers.Dense(5,activation=tf.nn.sigmoid)"
   ]
  },
  {
   "cell_type": "code",
   "execution_count": 12,
   "metadata": {},
   "outputs": [
    {
     "name": "stdout",
     "output_type": "stream",
     "text": [
      "Model: \"sequential_2\"\n",
      "_________________________________________________________________\n",
      "Layer (type)                 Output Shape              Param #   \n",
      "=================================================================\n",
      "dense_8 (Dense)              (None, 1)                 2         \n",
      "_________________________________________________________________\n",
      "dense_9 (Dense)              (None, 1)                 2         \n",
      "=================================================================\n",
      "Total params: 4\n",
      "Trainable params: 4\n",
      "Non-trainable params: 0\n",
      "_________________________________________________________________\n"
     ]
    }
   ],
   "source": [
    "model.summary()"
   ]
  },
  {
   "cell_type": "code",
   "execution_count": 13,
   "metadata": {},
   "outputs": [],
   "source": [
    "model.compile(optimizer=tf.keras.optimizers.Adam(learning_rate=0.1),\n",
    "                      loss=tf.keras.losses.mean_squared_error,\n",
    "                      metrics=[tf.keras.metrics.MeanSquaredError()])\n"
   ]
  },
  {
   "cell_type": "code",
   "execution_count": 14,
   "metadata": {},
   "outputs": [
    {
     "name": "stdout",
     "output_type": "stream",
     "text": [
      "Train on 70 samples\n",
      "Epoch 1/100\n",
      "70/70 [==============================] - 0s 1ms/sample - loss: 10083.3615 - mean_squared_error: 10083.3613\n",
      "Epoch 2/100\n",
      "70/70 [==============================] - 0s 172us/sample - loss: 5424.2665 - mean_squared_error: 5424.2661\n",
      "Epoch 3/100\n",
      "70/70 [==============================] - 0s 211us/sample - loss: 3022.6949 - mean_squared_error: 3022.6951\n",
      "Epoch 4/100\n",
      "70/70 [==============================] - 0s 247us/sample - loss: 1928.5976 - mean_squared_error: 1928.5975\n",
      "Epoch 5/100\n",
      "70/70 [==============================] - 0s 236us/sample - loss: 1356.4280 - mean_squared_error: 1356.4281\n",
      "Epoch 6/100\n",
      "70/70 [==============================] - 0s 18us/sample - loss: 1092.7537 - mean_squared_error: 1092.7537\n",
      "Epoch 7/100\n",
      "70/70 [==============================] - 0s 0s/sample - loss: 905.9348 - mean_squared_error: 905.9348\n",
      "Epoch 8/100\n",
      "70/70 [==============================] - 0s 0s/sample - loss: 724.9927 - mean_squared_error: 724.9927\n",
      "Epoch 9/100\n",
      "70/70 [==============================] - 0s 0s/sample - loss: 516.6233 - mean_squared_error: 516.6234\n",
      "Epoch 10/100\n",
      "70/70 [==============================] - 0s 0s/sample - loss: 282.5301 - mean_squared_error: 282.5301\n",
      "Epoch 11/100\n",
      "70/70 [==============================] - 0s 0s/sample - loss: 101.3092 - mean_squared_error: 101.3092\n",
      "Epoch 12/100\n",
      "70/70 [==============================] - 0s 0s/sample - loss: 10.2354 - mean_squared_error: 10.2354\n",
      "Epoch 13/100\n",
      "70/70 [==============================] - 0s 0s/sample - loss: 19.0366 - mean_squared_error: 19.0366\n",
      "Epoch 14/100\n",
      "70/70 [==============================] - 0s 0s/sample - loss: 76.3477 - mean_squared_error: 76.3477\n",
      "Epoch 15/100\n",
      "70/70 [==============================] - 0s 0s/sample - loss: 97.8729 - mean_squared_error: 97.8729\n",
      "Epoch 16/100\n",
      "70/70 [==============================] - 0s 0s/sample - loss: 70.6469 - mean_squared_error: 70.6469\n",
      "Epoch 17/100\n",
      "70/70 [==============================] - 0s 0s/sample - loss: 28.3577 - mean_squared_error: 28.3577\n",
      "Epoch 18/100\n",
      "70/70 [==============================] - 0s 0s/sample - loss: 2.2238 - mean_squared_error: 2.2238\n",
      "Epoch 19/100\n",
      "70/70 [==============================] - 0s 223us/sample - loss: 2.8853 - mean_squared_error: 2.8853\n",
      "Epoch 20/100\n",
      "70/70 [==============================] - 0s 229us/sample - loss: 12.2044 - mean_squared_error: 12.2044\n",
      "Epoch 21/100\n",
      "70/70 [==============================] - 0s 246us/sample - loss: 15.5210 - mean_squared_error: 15.5210\n",
      "Epoch 22/100\n",
      "70/70 [==============================] - 0s 264us/sample - loss: 11.3696 - mean_squared_error: 11.3696\n",
      "Epoch 23/100\n",
      "70/70 [==============================] - 0s 219us/sample - loss: 4.5101 - mean_squared_error: 4.5101\n",
      "Epoch 24/100\n",
      "70/70 [==============================] - 0s 229us/sample - loss: 0.5964 - mean_squared_error: 0.5964\n",
      "Epoch 25/100\n",
      "70/70 [==============================] - 0s 232us/sample - loss: 0.3753 - mean_squared_error: 0.3753\n",
      "Epoch 26/100\n",
      "70/70 [==============================] - 0s 238us/sample - loss: 2.1403 - mean_squared_error: 2.1403\n",
      "Epoch 27/100\n",
      "70/70 [==============================] - 0s 258us/sample - loss: 2.9205 - mean_squared_error: 2.9205\n",
      "Epoch 28/100\n",
      "70/70 [==============================] - 0s 233us/sample - loss: 2.0158 - mean_squared_error: 2.0158\n",
      "Epoch 29/100\n",
      "70/70 [==============================] - 0s 0s/sample - loss: 0.6625 - mean_squared_error: 0.6625\n",
      "Epoch 30/100\n",
      "70/70 [==============================] - 0s 0s/sample - loss: 0.0369 - mean_squared_error: 0.0369\n",
      "Epoch 31/100\n",
      "70/70 [==============================] - 0s 0s/sample - loss: 0.1753 - mean_squared_error: 0.1753\n",
      "Epoch 32/100\n",
      "70/70 [==============================] - 0s 0s/sample - loss: 0.4414 - mean_squared_error: 0.4414\n",
      "Epoch 33/100\n",
      "70/70 [==============================] - 0s 40us/sample - loss: 0.4325 - mean_squared_error: 0.4325\n",
      "Epoch 34/100\n",
      "70/70 [==============================] - 0s 0s/sample - loss: 0.2014 - mean_squared_error: 0.2014\n",
      "Epoch 35/100\n",
      "70/70 [==============================] - 0s 205us/sample - loss: 0.0256 - mean_squared_error: 0.0256\n",
      "Epoch 36/100\n",
      "70/70 [==============================] - 0s 132us/sample - loss: 0.0222 - mean_squared_error: 0.0222\n",
      "Epoch 37/100\n",
      "70/70 [==============================] - 0s 213us/sample - loss: 0.0819 - mean_squared_error: 0.0819\n",
      "Epoch 38/100\n",
      "70/70 [==============================] - 0s 248us/sample - loss: 0.0897 - mean_squared_error: 0.0897\n",
      "Epoch 39/100\n",
      "70/70 [==============================] - 0s 0s/sample - loss: 0.0468 - mean_squared_error: 0.0468\n",
      "Epoch 40/100\n",
      "70/70 [==============================] - 0s 0s/sample - loss: 0.0107 - mean_squared_error: 0.0107\n",
      "Epoch 41/100\n",
      "70/70 [==============================] - 0s 48us/sample - loss: 0.0047 - mean_squared_error: 0.0047\n",
      "Epoch 42/100\n",
      "70/70 [==============================] - 0s 233us/sample - loss: 0.0164 - mean_squared_error: 0.0164\n",
      "Epoch 43/100\n",
      "70/70 [==============================] - 0s 236us/sample - loss: 0.0201 - mean_squared_error: 0.0201\n",
      "Epoch 44/100\n",
      "70/70 [==============================] - 0s 256us/sample - loss: 0.0109 - mean_squared_error: 0.0109\n",
      "Epoch 45/100\n",
      "70/70 [==============================] - 0s 216us/sample - loss: 0.0028 - mean_squared_error: 0.0028\n",
      "Epoch 46/100\n",
      "70/70 [==============================] - 0s 259us/sample - loss: 0.0029 - mean_squared_error: 0.0029\n",
      "Epoch 47/100\n",
      "70/70 [==============================] - 0s 62us/sample - loss: 0.0049 - mean_squared_error: 0.0049\n",
      "Epoch 48/100\n",
      "70/70 [==============================] - 0s 0s/sample - loss: 0.0041 - mean_squared_error: 0.0041\n",
      "Epoch 49/100\n",
      "70/70 [==============================] - 0s 0s/sample - loss: 0.0022 - mean_squared_error: 0.0022\n",
      "Epoch 50/100\n",
      "70/70 [==============================] - 0s 35us/sample - loss: 0.0017 - mean_squared_error: 0.0017\n",
      "Epoch 51/100\n",
      "70/70 [==============================] - 0s 5us/sample - loss: 0.0020 - mean_squared_error: 0.0020\n",
      "Epoch 52/100\n",
      "70/70 [==============================] - 0s 0s/sample - loss: 0.0021 - mean_squared_error: 0.0021\n",
      "Epoch 53/100\n",
      "70/70 [==============================] - 0s 0s/sample - loss: 0.0018 - mean_squared_error: 0.0018\n",
      "Epoch 54/100\n",
      "70/70 [==============================] - 0s 237us/sample - loss: 0.0015 - mean_squared_error: 0.0015\n",
      "Epoch 55/100\n",
      "70/70 [==============================] - 0s 238us/sample - loss: 0.0015 - mean_squared_error: 0.0015\n",
      "Epoch 56/100\n",
      "70/70 [==============================] - 0s 238us/sample - loss: 0.0015 - mean_squared_error: 0.0015\n",
      "Epoch 57/100\n",
      "70/70 [==============================] - 0s 0s/sample - loss: 0.0014 - mean_squared_error: 0.0014\n",
      "Epoch 58/100\n",
      "70/70 [==============================] - 0s 0s/sample - loss: 0.0013 - mean_squared_error: 0.0013   \n",
      "Epoch 59/100\n",
      "70/70 [==============================] - 0s 0s/sample - loss: 0.0013 - mean_squared_error: 0.0013\n",
      "Epoch 60/100\n",
      "70/70 [==============================] - 0s 237us/sample - loss: 0.0012 - mean_squared_error: 0.0012\n",
      "Epoch 61/100\n",
      "70/70 [==============================] - 0s 240us/sample - loss: 0.0012 - mean_squared_error: 0.0012\n",
      "Epoch 62/100\n",
      "70/70 [==============================] - 0s 245us/sample - loss: 0.0012 - mean_squared_error: 0.0012\n",
      "Epoch 63/100\n",
      "70/70 [==============================] - 0s 229us/sample - loss: 0.0011 - mean_squared_error: 0.0011\n",
      "Epoch 64/100\n",
      "70/70 [==============================] - 0s 239us/sample - loss: 0.0011 - mean_squared_error: 0.0011\n",
      "Epoch 65/100\n",
      "70/70 [==============================] - ETA: 0s - loss: 0.0012 - mean_squared_error: 0.00 - 0s 0s/sample - loss: 0.0011 - mean_squared_error: 0.0011\n",
      "Epoch 66/100\n",
      "70/70 [==============================] - 0s 0s/sample - loss: 0.0010 - mean_squared_error: 0.0010   \n",
      "Epoch 67/100\n",
      "70/70 [==============================] - 0s 0s/sample - loss: 0.0010 - mean_squared_error: 0.0010\n",
      "Epoch 68/100\n",
      "70/70 [==============================] - 0s 0s/sample - loss: 9.9645e-04 - mean_squared_error: 9.9645e-04\n",
      "Epoch 69/100\n",
      "70/70 [==============================] - 0s 0s/sample - loss: 9.6969e-04 - mean_squared_error: 9.6969e-04\n",
      "Epoch 70/100\n",
      "70/70 [==============================] - 0s 234us/sample - loss: 9.3041e-04 - mean_squared_error: 9.3041e-04\n",
      "Epoch 71/100\n",
      "70/70 [==============================] - 0s 239us/sample - loss: 8.9400e-04 - mean_squared_error: 8.9400e-04\n",
      "Epoch 72/100\n"
     ]
    },
    {
     "name": "stdout",
     "output_type": "stream",
     "text": [
      "70/70 [==============================] - 0s 241us/sample - loss: 8.8062e-04 - mean_squared_error: 8.8062e-04\n",
      "Epoch 73/100\n",
      "70/70 [==============================] - 0s 532us/sample - loss: 8.5304e-04 - mean_squared_error: 8.5304e-04\n",
      "Epoch 74/100\n",
      "70/70 [==============================] - 0s 238us/sample - loss: 8.2286e-04 - mean_squared_error: 8.2286e-04\n",
      "Epoch 75/100\n",
      "70/70 [==============================] - 0s 0s/sample - loss: 7.9465e-04 - mean_squared_error: 7.9465e-04\n",
      "Epoch 76/100\n",
      "70/70 [==============================] - 0s 189us/sample - loss: 7.6983e-04 - mean_squared_error: 7.6983e-04\n",
      "Epoch 77/100\n",
      "70/70 [==============================] - 0s 237us/sample - loss: 7.5690e-04 - mean_squared_error: 7.5690e-04\n",
      "Epoch 78/100\n",
      "70/70 [==============================] - 0s 237us/sample - loss: 7.3430e-04 - mean_squared_error: 7.3430e-04\n",
      "Epoch 79/100\n",
      "70/70 [==============================] - 0s 241us/sample - loss: 7.0804e-04 - mean_squared_error: 7.0804e-04\n",
      "Epoch 80/100\n",
      "70/70 [==============================] - 0s 235us/sample - loss: 6.7817e-04 - mean_squared_error: 6.7817e-04\n",
      "Epoch 81/100\n",
      "70/70 [==============================] - 0s 245us/sample - loss: 6.6864e-04 - mean_squared_error: 6.6864e-04\n",
      "Epoch 82/100\n",
      "70/70 [==============================] - 0s 231us/sample - loss: 6.6433e-04 - mean_squared_error: 6.6433e-04\n",
      "Epoch 83/100\n",
      "70/70 [==============================] - 0s 236us/sample - loss: 6.4313e-04 - mean_squared_error: 6.4313e-04\n",
      "Epoch 84/100\n",
      "70/70 [==============================] - 0s 225us/sample - loss: 6.0349e-04 - mean_squared_error: 6.0349e-04\n",
      "Epoch 85/100\n",
      "70/70 [==============================] - 0s 0s/sample - loss: 5.8788e-04 - mean_squared_error: 5.8788e-04\n",
      "Epoch 86/100\n",
      "70/70 [==============================] - 0s 0s/sample - loss: 5.9161e-04 - mean_squared_error: 5.9161e-04\n",
      "Epoch 87/100\n",
      "70/70 [==============================] - 0s 234us/sample - loss: 5.6460e-04 - mean_squared_error: 5.6460e-04\n",
      "Epoch 88/100\n",
      "70/70 [==============================] - 0s 246us/sample - loss: 5.2534e-04 - mean_squared_error: 5.2534e-04\n",
      "Epoch 89/100\n",
      "70/70 [==============================] - 0s 0s/sample - loss: 5.1910e-04 - mean_squared_error: 5.1910e-04\n",
      "Epoch 90/100\n",
      "70/70 [==============================] - 0s 0s/sample - loss: 5.0468e-04 - mean_squared_error: 5.0468e-04\n",
      "Epoch 91/100\n",
      "70/70 [==============================] - 0s 0s/sample - loss: 4.7846e-04 - mean_squared_error: 4.7846e-04\n",
      "Epoch 92/100\n",
      "70/70 [==============================] - 0s 238us/sample - loss: 4.6278e-04 - mean_squared_error: 4.6278e-04\n",
      "Epoch 93/100\n",
      "70/70 [==============================] - 0s 238us/sample - loss: 4.4157e-04 - mean_squared_error: 4.4157e-04\n",
      "Epoch 94/100\n",
      "70/70 [==============================] - 0s 239us/sample - loss: 4.3136e-04 - mean_squared_error: 4.3136e-04\n",
      "Epoch 95/100\n",
      "70/70 [==============================] - 0s 0s/sample - loss: 4.2344e-04 - mean_squared_error: 4.2344e-04\n",
      "Epoch 96/100\n",
      "70/70 [==============================] - 0s 0s/sample - loss: 4.0702e-04 - mean_squared_error: 4.0702e-04\n",
      "Epoch 97/100\n",
      "70/70 [==============================] - 0s 239us/sample - loss: 3.8696e-04 - mean_squared_error: 3.8696e-04\n",
      "Epoch 98/100\n",
      "70/70 [==============================] - 0s 245us/sample - loss: 3.7102e-04 - mean_squared_error: 3.7102e-04\n",
      "Epoch 99/100\n",
      "70/70 [==============================] - 0s 233us/sample - loss: 3.5815e-04 - mean_squared_error: 3.5815e-04\n",
      "Epoch 100/100\n",
      "70/70 [==============================] - 0s 0s/sample - loss: 3.4396e-04 - mean_squared_error: 3.4396e-04\n"
     ]
    },
    {
     "data": {
      "text/plain": [
       "<tensorflow.python.keras.callbacks.History at 0x24d784fa5c8>"
      ]
     },
     "execution_count": 14,
     "metadata": {},
     "output_type": "execute_result"
    }
   ],
   "source": [
    "model.fit(X_train,Y_train,epochs=100,verbose=1)"
   ]
  },
  {
   "cell_type": "code",
   "execution_count": 15,
   "metadata": {},
   "outputs": [
    {
     "name": "stdout",
     "output_type": "stream",
     "text": [
      "28/28 - 0s - loss: 9.5157e-04 - mean_squared_error: 9.5157e-04\n"
     ]
    },
    {
     "data": {
      "text/plain": [
       "[0.0009515667334198952, 0.00095156673]"
      ]
     },
     "execution_count": 15,
     "metadata": {},
     "output_type": "execute_result"
    }
   ],
   "source": [
    "model.evaluate(X_test,Y_test,verbose=2)\n"
   ]
  },
  {
   "cell_type": "code",
   "execution_count": 16,
   "metadata": {},
   "outputs": [
    {
     "data": {
      "image/png": "[encoded data removed]",
      "text/plain": [
       "<Figure size 720x360 with 1 Axes>"
      ]
     },
     "metadata": {
      "needs_background": "light"
     },
     "output_type": "display_data"
    }
   ],
   "source": [
    "X_new = X_test[:20] # pretend these are new instances\n",
    "y_pred = model.predict(X_new)\n",
    "plt.figure(figsize=(10,5))\n",
    "plt.plot(np.arange(0,len(X_new),1),Y_test[:20],'b--',label='Actual Y')\n",
    "plt.plot(np.arange(0,len(X_new),1),y_pred,'r--',label='Predicted Y')\n",
    "plt.legend()\n",
    "plt.show()\n"
   ]
  },
  {
   "cell_type": "code",
   "execution_count": null,
   "metadata": {},
   "outputs": [],
   "source": [
    "X_new = X_test[:20]\n",
    "plt. plot(Y_test[:20],y_pred, 'o')\n",
    "m, b = np. polyfit(Y_test[:20],y_pred, 1) \n",
    "plt. plot(Y_test, m*Y_test+ b)\n",
    "plt.xlabel('y')\n",
    "plt.ylabel('y-cap')\n",
    "print(m)"
   ]
  },
  {
   "cell_type": "code",
   "execution_count": null,
   "metadata": {},
   "outputs": [],
   "source": [
    "# from sklearn.linear_model import LinearRegression\n",
    "# x = xs\n",
    "# y = ys\n",
    "# # create a linear regression model\n",
    "# model = LinearRegression()\n",
    "# model.fit(x, y)\n",
    "# # predict y from the data\n",
    "# y_new = model.predict(X_new)"
   ]
  },
  {
   "cell_type": "code",
   "execution_count": null,
   "metadata": {},
   "outputs": [],
   "source": []
  }
 ],
 "metadata": {
  "kernelspec": {
   "display_name": "Python 3",
   "language": "python",
   "name": "python3"
  },
  "language_info": {
   "codemirror_mode": {
    "name": "ipython",
    "version": 3
   },
   "file_extension": ".py",
   "mimetype": "text/x-python",
   "name": "python",
   "nbconvert_exporter": "python",
   "pygments_lexer": "ipython3",
   "version": "3.7.4"
  }
 },
 "nbformat": 4,
 "nbformat_minor": 2
}
